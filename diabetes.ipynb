{
 "cells": [
  {
   "cell_type": "markdown",
   "id": "bc3a5e25",
   "metadata": {},
   "source": [
    "# **Predicting Diabetes Risk Using Machine Learning**\n",
    "This dataset is originally from the National Institute of Diabetes and Digestive and Kidney Diseases. The objective of the dataset is to diagnostically predict whether or not a patient has diabetes, based on certain diagnostic measurements included in the dataset. Several constraints were placed on the selection of these instances from a larger database. In particular, all patients here are females at least 21 years old of Pima Indian heritage."
   ]
  },
  {
   "cell_type": "markdown",
   "id": "c30d0a72",
   "metadata": {},
   "source": [
    "**Task:** Build a machine learning model to accurately predict whether or not the patients in the dataset have diabetes or not. "
   ]
  },
  {
   "cell_type": "code",
   "execution_count": null,
   "id": "6413736a",
   "metadata": {},
   "outputs": [],
   "source": [
    "import pandas as pd\n",
    "df = pd.read_csv(\"diabetes.csv\")\n",
    "df.head(5)\n",
    "\n",
    "# Check for missing values\n",
    "df.isna().sum()\n",
    "\n",
    "# Summary statistics\n",
    "df.describe()"
   ]
  },
  {
   "cell_type": "markdown",
   "id": "78d6dab6",
   "metadata": {},
   "source": [
    "## **Baseline Model**"
   ]
  },
  {
   "cell_type": "code",
   "execution_count": 12,
   "id": "305f271a",
   "metadata": {},
   "outputs": [],
   "source": [
    "X = df.drop(\"Outcome\", axis=1)\n",
    "y = df[\"Outcome\"]"
   ]
  },
  {
   "cell_type": "markdown",
   "id": "c0fe6bb4",
   "metadata": {},
   "source": [
    "### Logistic Regression"
   ]
  },
  {
   "cell_type": "code",
   "execution_count": 25,
   "id": "ffa4201b",
   "metadata": {},
   "outputs": [
    {
     "name": "stdout",
     "output_type": "stream",
     "text": [
      "Logistic Regression Report\n",
      "              precision    recall  f1-score   support\n",
      "\n",
      "           0       0.82      0.88      0.85       101\n",
      "           1       0.74      0.64      0.69        53\n",
      "\n",
      "    accuracy                           0.80       154\n",
      "   macro avg       0.78      0.76      0.77       154\n",
      "weighted avg       0.79      0.80      0.79       154\n",
      "\n"
     ]
    }
   ],
   "source": [
    "from sklearn.pipeline import Pipeline\n",
    "from sklearn.preprocessing import StandardScaler\n",
    "from sklearn.ensemble import RandomForestClassifier\n",
    "from sklearn.linear_model import LogisticRegression\n",
    "from sklearn.model_selection import train_test_split\n",
    "from sklearn.metrics import classification_report, accuracy_score\n",
    "\n",
    "log_reg_pipe = Pipeline([(\"scaler\", StandardScaler()),\n",
    "          (\"model\", LogisticRegression(max_iter=1000))])\n",
    "\n",
    "X_train, X_test, y_train, y_test = train_test_split(X, y, test_size=0.2, random_state=23)\n",
    "log_reg_pipe.fit(X_train, y_train)\n",
    "\n",
    "y_pred = log_reg_pipe.predict(X_test)\n",
    "print(\"Logistic Regression Report\")\n",
    "print(classification_report(y_test, y_pred))"
   ]
  },
  {
   "cell_type": "code",
   "execution_count": 62,
   "id": "1f1e59b5",
   "metadata": {},
   "outputs": [
    {
     "data": {
      "text/plain": [
       "['logistic_regression.pkl']"
      ]
     },
     "execution_count": 62,
     "metadata": {},
     "output_type": "execute_result"
    }
   ],
   "source": [
    "import joblib\n",
    "joblib.dump(log_reg_pipe, \"logistic_regression.pkl\")"
   ]
  },
  {
   "cell_type": "markdown",
   "id": "ec36e307",
   "metadata": {},
   "source": [
    "### Random Forest Classification"
   ]
  },
  {
   "cell_type": "code",
   "execution_count": 21,
   "id": "531e9413",
   "metadata": {},
   "outputs": [
    {
     "name": "stdout",
     "output_type": "stream",
     "text": [
      "Random Forest Report\n",
      "              precision    recall  f1-score   support\n",
      "\n",
      "           0       0.84      0.87      0.85       101\n",
      "           1       0.73      0.68      0.71        53\n",
      "\n",
      "    accuracy                           0.81       154\n",
      "   macro avg       0.79      0.78      0.78       154\n",
      "weighted avg       0.80      0.81      0.80       154\n",
      "\n"
     ]
    }
   ],
   "source": [
    "rand_forest_pipe = Pipeline([(\"model\", RandomForestClassifier(n_estimators=100, class_weight=\"balanced\"))])\n",
    "rand_forest_pipe.fit(X_train, y_train)\n",
    "y_pred_rf = rand_forest_pipe.predict(X_test)\n",
    "\n",
    "print(\"Random Forest Report\")\n",
    "print(classification_report(y_test, y_pred_rf))"
   ]
  },
  {
   "cell_type": "code",
   "execution_count": 61,
   "id": "f54bc118",
   "metadata": {},
   "outputs": [
    {
     "data": {
      "text/plain": [
       "['random_forest.pkl']"
      ]
     },
     "execution_count": 61,
     "metadata": {},
     "output_type": "execute_result"
    }
   ],
   "source": [
    "import joblib\n",
    "joblib.dump(rand_forest_pipe, \"random_forest.pkl\")"
   ]
  },
  {
   "cell_type": "markdown",
   "id": "8444566c",
   "metadata": {},
   "source": [
    "### XGBoost Classifier"
   ]
  },
  {
   "cell_type": "code",
   "execution_count": 27,
   "id": "bc39af00",
   "metadata": {},
   "outputs": [
    {
     "name": "stdout",
     "output_type": "stream",
     "text": [
      "Accuracy: 0.8246753246753247\n",
      "\n",
      "XGBoost Classification Report:\n",
      "               precision    recall  f1-score   support\n",
      "\n",
      "           0       0.85      0.89      0.87       101\n",
      "           1       0.77      0.70      0.73        53\n",
      "\n",
      "    accuracy                           0.82       154\n",
      "   macro avg       0.81      0.79      0.80       154\n",
      "weighted avg       0.82      0.82      0.82       154\n",
      "\n"
     ]
    }
   ],
   "source": [
    "import xgboost as xgb\n",
    "from xgboost import XGBClassifier\n",
    "\n",
    "xgb_pipeline = Pipeline([(\"scaler\", StandardScaler()),\n",
    "                         (\"xgb\", XGBClassifier(n_estimators=200,\n",
    "                                               learning_rate=0.1,\n",
    "                                               max_depth=5,\n",
    "                                               subsample=0.8,\n",
    "                                               colsample_bytree=0.8,\n",
    "                                               random_state=23,\n",
    "                                               use_label_encoder=False,\n",
    "                                               eval_metric=\"logloss\"))])\n",
    "xgb_pipeline.fit(X_train, y_train)\n",
    "y_pred_xgb = xgb_pipeline.predict(X_test)\n",
    "\n",
    "print(\"Accuracy:\", accuracy_score(y_test, y_pred_xgb))\n",
    "print(\"\\nXGBoost Classification Report:\\n\", classification_report(y_test, y_pred_xgb))"
   ]
  },
  {
   "cell_type": "code",
   "execution_count": null,
   "id": "9f2e2741",
   "metadata": {},
   "outputs": [
    {
     "data": {
      "text/plain": [
       "['xgboost.pkl']"
      ]
     },
     "execution_count": 60,
     "metadata": {},
     "output_type": "execute_result"
    }
   ],
   "source": [
    "import joblib\n",
    "joblib.dump(xgb_pipeline, \"xgboost.pkl\")"
   ]
  },
  {
   "cell_type": "markdown",
   "id": "b35e102e",
   "metadata": {},
   "source": [
    "Putting all Classification Reports into a Dataframe"
   ]
  },
  {
   "cell_type": "code",
   "execution_count": 35,
   "id": "a24abd1d",
   "metadata": {},
   "outputs": [
    {
     "data": {
      "application/vnd.microsoft.datawrangler.viewer.v0+json": {
       "columns": [
        {
         "name": "index",
         "rawType": "int64",
         "type": "integer"
        },
        {
         "name": "model",
         "rawType": "object",
         "type": "string"
        },
        {
         "name": "class",
         "rawType": "object",
         "type": "string"
        },
        {
         "name": "precision",
         "rawType": "float64",
         "type": "float"
        },
        {
         "name": "recall",
         "rawType": "float64",
         "type": "float"
        },
        {
         "name": "f1-score",
         "rawType": "float64",
         "type": "float"
        },
        {
         "name": "support",
         "rawType": "float64",
         "type": "float"
        }
       ],
       "ref": "f10e4644-3e2a-45af-b09e-d91b9e53d9fa",
       "rows": [
        [
         "0",
         "Logistic Regression",
         "0",
         "0.8240740740740741",
         "0.8811881188118812",
         "0.8516746411483254",
         "101.0"
        ],
        [
         "1",
         "Logistic Regression",
         "1",
         "0.7391304347826086",
         "0.6415094339622641",
         "0.6868686868686869",
         "53.0"
        ],
        [
         "2",
         "Logistic Regression",
         "accuracy",
         "0.7987012987012987",
         "0.7987012987012987",
         "0.7987012987012987",
         "0.7987012987012987"
        ],
        [
         "3",
         "Logistic Regression",
         "macro avg",
         "0.7816022544283414",
         "0.7613487763870727",
         "0.7692716640085061",
         "154.0"
        ],
        [
         "4",
         "Logistic Regression",
         "weighted avg",
         "0.7948402241880503",
         "0.7987012987012987",
         "0.794955708831307",
         "154.0"
        ],
        [
         "5",
         "Random Forest",
         "0",
         "0.8380952380952381",
         "0.8712871287128713",
         "0.8543689320388349",
         "101.0"
        ],
        [
         "6",
         "Random Forest",
         "1",
         "0.7346938775510204",
         "0.6792452830188679",
         "0.7058823529411765",
         "53.0"
        ],
        [
         "7",
         "Random Forest",
         "accuracy",
         "0.8051948051948052",
         "0.8051948051948052",
         "0.8051948051948052",
         "0.8051948051948052"
        ],
        [
         "8",
         "Random Forest",
         "macro avg",
         "0.7863945578231293",
         "0.7752662058658696",
         "0.7801256424900057",
         "154.0"
        ],
        [
         "9",
         "Random Forest",
         "weighted avg",
         "0.8025090555702801",
         "0.8051948051948052",
         "0.8032664080636667",
         "154.0"
        ],
        [
         "10",
         "XGBoost",
         "0",
         "0.8490566037735849",
         "0.8910891089108911",
         "0.8695652173913043",
         "101.0"
        ],
        [
         "11",
         "XGBoost",
         "1",
         "0.7708333333333334",
         "0.6981132075471698",
         "0.7326732673267327",
         "53.0"
        ],
        [
         "12",
         "XGBoost",
         "accuracy",
         "0.8246753246753247",
         "0.8246753246753247",
         "0.8246753246753247",
         "0.8246753246753247"
        ],
        [
         "13",
         "XGBoost",
         "macro avg",
         "0.8099449685534592",
         "0.7946011582290304",
         "0.8011192423590185",
         "154.0"
        ],
        [
         "14",
         "XGBoost",
         "weighted avg",
         "0.8221356081025892",
         "0.8246753246753247",
         "0.822453052758692",
         "154.0"
        ]
       ],
       "shape": {
        "columns": 6,
        "rows": 15
       }
      },
      "text/html": [
       "<div>\n",
       "<style scoped>\n",
       "    .dataframe tbody tr th:only-of-type {\n",
       "        vertical-align: middle;\n",
       "    }\n",
       "\n",
       "    .dataframe tbody tr th {\n",
       "        vertical-align: top;\n",
       "    }\n",
       "\n",
       "    .dataframe thead th {\n",
       "        text-align: right;\n",
       "    }\n",
       "</style>\n",
       "<table border=\"1\" class=\"dataframe\">\n",
       "  <thead>\n",
       "    <tr style=\"text-align: right;\">\n",
       "      <th></th>\n",
       "      <th>model</th>\n",
       "      <th>class</th>\n",
       "      <th>precision</th>\n",
       "      <th>recall</th>\n",
       "      <th>f1-score</th>\n",
       "      <th>support</th>\n",
       "    </tr>\n",
       "  </thead>\n",
       "  <tbody>\n",
       "    <tr>\n",
       "      <th>0</th>\n",
       "      <td>Logistic Regression</td>\n",
       "      <td>0</td>\n",
       "      <td>0.824074</td>\n",
       "      <td>0.881188</td>\n",
       "      <td>0.851675</td>\n",
       "      <td>101.000000</td>\n",
       "    </tr>\n",
       "    <tr>\n",
       "      <th>1</th>\n",
       "      <td>Logistic Regression</td>\n",
       "      <td>1</td>\n",
       "      <td>0.739130</td>\n",
       "      <td>0.641509</td>\n",
       "      <td>0.686869</td>\n",
       "      <td>53.000000</td>\n",
       "    </tr>\n",
       "    <tr>\n",
       "      <th>2</th>\n",
       "      <td>Logistic Regression</td>\n",
       "      <td>accuracy</td>\n",
       "      <td>0.798701</td>\n",
       "      <td>0.798701</td>\n",
       "      <td>0.798701</td>\n",
       "      <td>0.798701</td>\n",
       "    </tr>\n",
       "    <tr>\n",
       "      <th>3</th>\n",
       "      <td>Logistic Regression</td>\n",
       "      <td>macro avg</td>\n",
       "      <td>0.781602</td>\n",
       "      <td>0.761349</td>\n",
       "      <td>0.769272</td>\n",
       "      <td>154.000000</td>\n",
       "    </tr>\n",
       "    <tr>\n",
       "      <th>4</th>\n",
       "      <td>Logistic Regression</td>\n",
       "      <td>weighted avg</td>\n",
       "      <td>0.794840</td>\n",
       "      <td>0.798701</td>\n",
       "      <td>0.794956</td>\n",
       "      <td>154.000000</td>\n",
       "    </tr>\n",
       "    <tr>\n",
       "      <th>5</th>\n",
       "      <td>Random Forest</td>\n",
       "      <td>0</td>\n",
       "      <td>0.838095</td>\n",
       "      <td>0.871287</td>\n",
       "      <td>0.854369</td>\n",
       "      <td>101.000000</td>\n",
       "    </tr>\n",
       "    <tr>\n",
       "      <th>6</th>\n",
       "      <td>Random Forest</td>\n",
       "      <td>1</td>\n",
       "      <td>0.734694</td>\n",
       "      <td>0.679245</td>\n",
       "      <td>0.705882</td>\n",
       "      <td>53.000000</td>\n",
       "    </tr>\n",
       "    <tr>\n",
       "      <th>7</th>\n",
       "      <td>Random Forest</td>\n",
       "      <td>accuracy</td>\n",
       "      <td>0.805195</td>\n",
       "      <td>0.805195</td>\n",
       "      <td>0.805195</td>\n",
       "      <td>0.805195</td>\n",
       "    </tr>\n",
       "    <tr>\n",
       "      <th>8</th>\n",
       "      <td>Random Forest</td>\n",
       "      <td>macro avg</td>\n",
       "      <td>0.786395</td>\n",
       "      <td>0.775266</td>\n",
       "      <td>0.780126</td>\n",
       "      <td>154.000000</td>\n",
       "    </tr>\n",
       "    <tr>\n",
       "      <th>9</th>\n",
       "      <td>Random Forest</td>\n",
       "      <td>weighted avg</td>\n",
       "      <td>0.802509</td>\n",
       "      <td>0.805195</td>\n",
       "      <td>0.803266</td>\n",
       "      <td>154.000000</td>\n",
       "    </tr>\n",
       "    <tr>\n",
       "      <th>10</th>\n",
       "      <td>XGBoost</td>\n",
       "      <td>0</td>\n",
       "      <td>0.849057</td>\n",
       "      <td>0.891089</td>\n",
       "      <td>0.869565</td>\n",
       "      <td>101.000000</td>\n",
       "    </tr>\n",
       "    <tr>\n",
       "      <th>11</th>\n",
       "      <td>XGBoost</td>\n",
       "      <td>1</td>\n",
       "      <td>0.770833</td>\n",
       "      <td>0.698113</td>\n",
       "      <td>0.732673</td>\n",
       "      <td>53.000000</td>\n",
       "    </tr>\n",
       "    <tr>\n",
       "      <th>12</th>\n",
       "      <td>XGBoost</td>\n",
       "      <td>accuracy</td>\n",
       "      <td>0.824675</td>\n",
       "      <td>0.824675</td>\n",
       "      <td>0.824675</td>\n",
       "      <td>0.824675</td>\n",
       "    </tr>\n",
       "    <tr>\n",
       "      <th>13</th>\n",
       "      <td>XGBoost</td>\n",
       "      <td>macro avg</td>\n",
       "      <td>0.809945</td>\n",
       "      <td>0.794601</td>\n",
       "      <td>0.801119</td>\n",
       "      <td>154.000000</td>\n",
       "    </tr>\n",
       "    <tr>\n",
       "      <th>14</th>\n",
       "      <td>XGBoost</td>\n",
       "      <td>weighted avg</td>\n",
       "      <td>0.822136</td>\n",
       "      <td>0.824675</td>\n",
       "      <td>0.822453</td>\n",
       "      <td>154.000000</td>\n",
       "    </tr>\n",
       "  </tbody>\n",
       "</table>\n",
       "</div>"
      ],
      "text/plain": [
       "                  model         class  precision    recall  f1-score  \\\n",
       "0   Logistic Regression             0   0.824074  0.881188  0.851675   \n",
       "1   Logistic Regression             1   0.739130  0.641509  0.686869   \n",
       "2   Logistic Regression      accuracy   0.798701  0.798701  0.798701   \n",
       "3   Logistic Regression     macro avg   0.781602  0.761349  0.769272   \n",
       "4   Logistic Regression  weighted avg   0.794840  0.798701  0.794956   \n",
       "5         Random Forest             0   0.838095  0.871287  0.854369   \n",
       "6         Random Forest             1   0.734694  0.679245  0.705882   \n",
       "7         Random Forest      accuracy   0.805195  0.805195  0.805195   \n",
       "8         Random Forest     macro avg   0.786395  0.775266  0.780126   \n",
       "9         Random Forest  weighted avg   0.802509  0.805195  0.803266   \n",
       "10              XGBoost             0   0.849057  0.891089  0.869565   \n",
       "11              XGBoost             1   0.770833  0.698113  0.732673   \n",
       "12              XGBoost      accuracy   0.824675  0.824675  0.824675   \n",
       "13              XGBoost     macro avg   0.809945  0.794601  0.801119   \n",
       "14              XGBoost  weighted avg   0.822136  0.824675  0.822453   \n",
       "\n",
       "       support  \n",
       "0   101.000000  \n",
       "1    53.000000  \n",
       "2     0.798701  \n",
       "3   154.000000  \n",
       "4   154.000000  \n",
       "5   101.000000  \n",
       "6    53.000000  \n",
       "7     0.805195  \n",
       "8   154.000000  \n",
       "9   154.000000  \n",
       "10  101.000000  \n",
       "11   53.000000  \n",
       "12    0.824675  \n",
       "13  154.000000  \n",
       "14  154.000000  "
      ]
     },
     "execution_count": 35,
     "metadata": {},
     "output_type": "execute_result"
    }
   ],
   "source": [
    "log_report = classification_report(y_test, y_pred, output_dict=True)\n",
    "rand_forest_report = classification_report(y_test, y_pred_rf, output_dict=True)\n",
    "xgb_report = classification_report(y_test, y_pred_xgb, output_dict=True)\n",
    "\n",
    "log_report = pd.DataFrame(log_report).transpose()\n",
    "rand_forest_report = pd.DataFrame(rand_forest_report).transpose()\n",
    "xgb_report = pd.DataFrame(xgb_report).transpose()\n",
    "\n",
    "log_report[\"model\"] = \"Logistic Regression\"\n",
    "rand_forest_report[\"model\"] = \"Random Forest\"\n",
    "xgb_report[\"model\"] = \"XGBoost\"\n",
    "\n",
    "comparison = pd.concat([log_report, rand_forest_report, xgb_report])\n",
    "comparison = comparison.reset_index().rename(columns={\"index\":\"class\"})\n",
    "comparison = comparison[[\"model\", \"class\", \"precision\", \"recall\", \"f1-score\", \"support\"]]\n",
    "comparison"
   ]
  },
  {
   "cell_type": "markdown",
   "id": "f42aa526",
   "metadata": {},
   "source": [
    "## **Hyperparameter Tuning: Random Forest**"
   ]
  },
  {
   "cell_type": "code",
   "execution_count": 41,
   "id": "94046e0a",
   "metadata": {},
   "outputs": [
    {
     "name": "stdout",
     "output_type": "stream",
     "text": [
      "Fitting 5 folds for each of 324 candidates, totalling 1620 fits\n",
      "Pipeline(steps=[('model',\n",
      "                 RandomForestClassifier(class_weight='balanced', max_depth=5,\n",
      "                                        min_samples_leaf=4,\n",
      "                                        min_samples_split=5))])\n"
     ]
    }
   ],
   "source": [
    "from sklearn.model_selection import GridSearchCV\n",
    "parameter_grid = {\"model__n_estimators\": [100, 200, 300],\n",
    "                  \"model__max_depth\": [None, 5, 10, 20],\n",
    "                  \"model__min_samples_split\": [2, 5, 10],\n",
    "                  \"model__min_samples_leaf\": [1, 2, 4],\n",
    "                  \"model__max_features\": [\"sqrt\", \"log2\", None]}\n",
    "\n",
    "grid_search = GridSearchCV(rand_forest_pipe,\n",
    "             param_grid=parameter_grid,\n",
    "             cv=5,\n",
    "             scoring=\"recall\",\n",
    "             n_jobs=-1,\n",
    "             verbose=2)\n",
    "\n",
    "grid_search.fit(X_train, y_train)\n",
    "\n",
    "grid_search.best_params_\n",
    "best_rf_model = grid_search.best_estimator_\n",
    "print(grid_search.best_estimator_)"
   ]
  },
  {
   "cell_type": "code",
   "execution_count": 43,
   "id": "3d324ea7",
   "metadata": {},
   "outputs": [
    {
     "name": "stdout",
     "output_type": "stream",
     "text": [
      "              precision    recall  f1-score   support\n",
      "\n",
      "           0       0.89      0.80      0.84       101\n",
      "           1       0.68      0.81      0.74        53\n",
      "\n",
      "    accuracy                           0.81       154\n",
      "   macro avg       0.79      0.81      0.79       154\n",
      "weighted avg       0.82      0.81      0.81       154\n",
      "\n"
     ]
    }
   ],
   "source": [
    "y_pred_best_rf_model = best_rf_model.predict(X_test)\n",
    "print(classification_report(y_test, y_pred_best_rf_model))"
   ]
  },
  {
   "cell_type": "markdown",
   "id": "8f132aa6",
   "metadata": {},
   "source": [
    "*Evaluating Feature Importance*"
   ]
  },
  {
   "cell_type": "code",
   "execution_count": 59,
   "id": "cecc5b10",
   "metadata": {},
   "outputs": [
    {
     "data": {
      "application/vnd.microsoft.datawrangler.viewer.v0+json": {
       "columns": [
        {
         "name": "index",
         "rawType": "object",
         "type": "string"
        },
        {
         "name": "0",
         "rawType": "float64",
         "type": "float"
        }
       ],
       "ref": "78dcfad2-c9d0-46e8-84e3-371e2402949f",
       "rows": [
        [
         "Glucose",
         "0.34442008032683546"
        ],
        [
         "BMI",
         "0.20836668987596121"
        ],
        [
         "Age",
         "0.14223774686716234"
        ],
        [
         "DiabetesPedigreeFunction",
         "0.08584955697806307"
        ],
        [
         "SkinThickness",
         "0.06275659954973106"
        ],
        [
         "Pregnancies",
         "0.053212992116578886"
        ],
        [
         "Insulin",
         "0.052240664506027476"
        ],
        [
         "BloodPressure",
         "0.05091566977964056"
        ]
       ],
       "shape": {
        "columns": 1,
        "rows": 8
       }
      },
      "text/plain": [
       "Glucose                     0.344420\n",
       "BMI                         0.208367\n",
       "Age                         0.142238\n",
       "DiabetesPedigreeFunction    0.085850\n",
       "SkinThickness               0.062757\n",
       "Pregnancies                 0.053213\n",
       "Insulin                     0.052241\n",
       "BloodPressure               0.050916\n",
       "dtype: float64"
      ]
     },
     "execution_count": 59,
     "metadata": {},
     "output_type": "execute_result"
    }
   ],
   "source": [
    "rf = grid_search.best_estimator_.named_steps[\"model\"]\n",
    "importances = rf.feature_importances_\n",
    "importances = pd.Series(importances, index=X_train.columns).sort_values(ascending=False)\n",
    "importances"
   ]
  },
  {
   "cell_type": "code",
   "execution_count": null,
   "id": "89661ac6",
   "metadata": {},
   "outputs": [],
   "source": [
    "best_rf_model_report = classification_report(y_test, y_pred_best_rf_model, output_dict=True)\n",
    "best_rf_model_report = pd.DataFrame(best_rf_model_report).transpose()\n",
    "best_rf_model_report[\"model\"] = \"Tuned Random Forest\"\n",
    "random_forest_models = pd.concat([rand_forest_report, best_rf_model_report])\n",
    "random_forest_models = random_forest_models.reset_index().rename(columns={\"index\": \"class\"})\n",
    "random_forest_models = random_forest_models[[\"model\", \"class\", \"precision\", \"recall\", \"f1-score\", \"support\"]]\n",
    "random_forest_models"
   ]
  },
  {
   "cell_type": "code",
   "execution_count": 63,
   "id": "2bbf22be",
   "metadata": {},
   "outputs": [
    {
     "data": {
      "text/plain": [
       "['rf_tuned.pkl']"
      ]
     },
     "execution_count": 63,
     "metadata": {},
     "output_type": "execute_result"
    }
   ],
   "source": [
    "import joblib\n",
    "joblib.dump(best_rf_model, \"rf_tuned.pkl\")"
   ]
  },
  {
   "cell_type": "markdown",
   "id": "02bd650a",
   "metadata": {},
   "source": [
    "**Model Deployment**"
   ]
  },
  {
   "cell_type": "markdown",
   "id": "38e9434b",
   "metadata": {},
   "source": []
  }
 ],
 "metadata": {
  "kernelspec": {
   "display_name": "Python 3",
   "language": "python",
   "name": "python3"
  },
  "language_info": {
   "codemirror_mode": {
    "name": "ipython",
    "version": 3
   },
   "file_extension": ".py",
   "mimetype": "text/x-python",
   "name": "python",
   "nbconvert_exporter": "python",
   "pygments_lexer": "ipython3",
   "version": "3.13.3"
  }
 },
 "nbformat": 4,
 "nbformat_minor": 5
}
